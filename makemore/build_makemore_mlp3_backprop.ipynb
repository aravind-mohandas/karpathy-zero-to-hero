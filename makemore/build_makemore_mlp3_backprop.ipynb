{
 "cells": [
  {
   "cell_type": "code",
   "execution_count": 1,
   "id": "606561d5",
   "metadata": {},
   "outputs": [],
   "source": [
    "import torch\n",
    "import torch.nn.functional as F\n",
    "import matplotlib.pyplot as plt\n",
    "%matplotlib inline"
   ]
  },
  {
   "cell_type": "code",
   "execution_count": 2,
   "id": "54412749",
   "metadata": {},
   "outputs": [
    {
     "data": {
      "text/plain": [
       "['emma', 'olivia', 'ava', 'isabella', 'sophia']"
      ]
     },
     "execution_count": 2,
     "metadata": {},
     "output_type": "execute_result"
    }
   ],
   "source": [
    "words = open('names.txt','r').read().splitlines()\n",
    "words[:5]\n"
   ]
  },
  {
   "cell_type": "code",
   "execution_count": 3,
   "id": "feead115",
   "metadata": {},
   "outputs": [
    {
     "name": "stdout",
     "output_type": "stream",
     "text": [
      "{1: 'a', 2: 'b', 3: 'c', 4: 'd', 5: 'e', 6: 'f', 7: 'g', 8: 'h', 9: 'i', 10: 'j', 11: 'k', 12: 'l', 13: 'm', 14: 'n', 15: 'o', 16: 'p', 17: 'q', 18: 'r', 19: 's', 20: 't', 21: 'u', 22: 'v', 23: 'w', 24: 'x', 25: 'y', 26: 'z', 0: '.'}\n"
     ]
    }
   ],
   "source": [
    "# building the vocabulary with mapping from characters to integers and vice-versa\n",
    "chars = sorted(list(set(''.join(words))))\n",
    "stoi = {s:i+1 for i, s in enumerate(chars)}\n",
    "stoi['.'] = 0\n",
    "itos = {i:s for s,i in stoi.items()}\n",
    "vocab_size = len(itos)\n",
    "print(itos)"
   ]
  },
  {
   "cell_type": "code",
   "execution_count": 4,
   "id": "4d84ad79",
   "metadata": {},
   "outputs": [
    {
     "name": "stdout",
     "output_type": "stream",
     "text": [
      "torch.Size([182625, 3]) torch.Size([182625])\n",
      "torch.Size([22655, 3]) torch.Size([22655])\n",
      "torch.Size([22866, 3]) torch.Size([22866])\n"
     ]
    }
   ],
   "source": [
    "# building the dataset\n",
    "block_size = 3 # context length: how many characters do we take to predict the next one\n",
    "\n",
    "def build_dataset(words):\n",
    "    X, Y = [], []\n",
    "\n",
    "    for w in words:\n",
    "        \n",
    "        context = [0] * block_size\n",
    "        for ch in w + '.':\n",
    "            ix = stoi[ch]\n",
    "            X.append(context)\n",
    "            Y.append(ix)\n",
    "            context = context[1:] + [ix] # cropping and appending\n",
    "\n",
    "    X = torch.tensor(X)\n",
    "    Y = torch.tensor(Y)\n",
    "    print(X.shape, Y.shape)\n",
    "    return X, Y\n",
    "\n",
    "import random\n",
    "random.seed(42)\n",
    "random.shuffle(words)\n",
    "n1 = int(0.8*len(words))\n",
    "n2 = int(0.9*len(words))\n",
    "\n",
    "Xtr, Ytr = build_dataset(words[:n1])\n",
    "Xdev, Ydev = build_dataset(words[n1:n2])\n",
    "Xte, Yte = build_dataset(words[n2:])\n"
   ]
  },
  {
   "cell_type": "code",
   "execution_count": 16,
   "id": "a084a564",
   "metadata": {},
   "outputs": [],
   "source": [
    "# utility function to compare manual gradients to pytorch gradients\n",
    "def cmp(s, dt, t):\n",
    "    ex = torch.all(dt ==t.grad).item()\n",
    "    app = torch.allclose(dt, t.grad)\n",
    "    maxdiff = (dt - t.grad).abs().max().item()\n",
    "    print(f'{s:15s} |   exact: {str(ex):5s} | approximate: {str(app):5s} | maxdiff: {maxdiff}')"
   ]
  },
  {
   "cell_type": "code",
   "execution_count": 17,
   "id": "96af9bbd",
   "metadata": {},
   "outputs": [
    {
     "name": "stdout",
     "output_type": "stream",
     "text": [
      "12297\n"
     ]
    }
   ],
   "source": [
    "n_embd = 10\n",
    "n_hidden = 200\n",
    "\n",
    "\n",
    "\n",
    "g = torch.Generator().manual_seed(2147483647)\n",
    "C = torch.randn((vocab_size, n_embd), generator = g)\n",
    "\n",
    "# Layer 1\n",
    "W1 = torch.randn((n_embd * block_size, n_hidden), generator = g) * (5/3)/((n_embd * block_size)**0.5) \n",
    "b1 = torch.randn(n_hidden, generator = g) * 0.1     # This is useless we are adding to see the gradient\n",
    "\n",
    "# Layer 2\n",
    "W2 = torch.randn((n_hidden, vocab_size), generator = g) * 0.1  \n",
    "b2 = torch.randn(vocab_size, generator = g)* 0.1 \n",
    "\n",
    "# batch normalization\n",
    "bngain = torch.ones((1, n_hidden)) * 0.1 + 1.0\n",
    "bnbias = torch.zeros((1, n_hidden)) * 0.1\n",
    "\n",
    "\n",
    "\n",
    "parameters = [C, W1, b1, W2, b2, bngain, bnbias] \n",
    "print(sum(p.nelement() for p in parameters)) # getting the number of parameters\n",
    "for p in parameters:\n",
    "    p.requires_grad = True"
   ]
  },
  {
   "cell_type": "code",
   "execution_count": 18,
   "id": "122e5b2f",
   "metadata": {},
   "outputs": [],
   "source": [
    "batch_size = 32\n",
    "n = batch_size # shorter variable name\n",
    "\n",
    "# construct a minibatch\n",
    "ix = torch.randint(0, Xtr.shape[0], (batch_size, ), generator = g)\n",
    "Xb, Yb = Xtr[ix], Ytr[ix]   # batch X, Y"
   ]
  },
  {
   "cell_type": "code",
   "execution_count": 19,
   "id": "3d8f454e",
   "metadata": {},
   "outputs": [
    {
     "data": {
      "text/plain": [
       "tensor(3.8279, grad_fn=<NegBackward0>)"
      ]
     },
     "execution_count": 19,
     "metadata": {},
     "output_type": "execute_result"
    }
   ],
   "source": [
    "# forward pass, split into smaller steps to see backward prop one at a time\n",
    "\n",
    "emb  = C[Xb]    # embedding the characters into vectors\n",
    "embcat = emb.view(emb.shape[0], -1)     # concatenating the vectors\n",
    "\n",
    "# Linear layer1\n",
    "hprebn =embcat @ W1 + b1    # hidden layer pre-activation and normalization\n",
    "\n",
    "#batchnorm layer\n",
    "bnmeani = 1/n * hprebn.sum(0, keepdim = True)\n",
    "bndiff = hprebn - bnmeani \n",
    "bndiff2 = bndiff**2\n",
    "bnvar = 1/(n-1) * bndiff2.sum(0, keepdim = True)     # bessel's corection\n",
    "bnvar_inv = (bnvar + 1e-5)**-0.5\n",
    "bnraw = bndiff * bnvar_inv\n",
    "hpreact = bngain*bnraw + bnbias\n",
    "\n",
    "# Non-linearity\n",
    "h = torch.tanh(hpreact)  # hidden layer\n",
    "\n",
    "# Linear layer 2\n",
    "logits = h @ W2 + b2    # output layer\n",
    "\n",
    "# cross entropy loss ( same as F.cross_entropy(logits, Yb))\n",
    "logit_maxes = logits.max(1, keepdim = True).values\n",
    "norm_logits = logits - logit_maxes  # subtracting the max for numerical stability\n",
    "counts = norm_logits.exp()\n",
    "counts_sum = counts.sum(1, keepdims = True)\n",
    "counts_sum_inv = counts_sum**-1     #Interesting fact: using 1/counts_sum is not good for getting exact backprop\n",
    "probs = counts * counts_sum_inv\n",
    "logprobs = probs.log()\n",
    "loss = -logprobs[range(n), Yb].mean()\n",
    "\n",
    "\n",
    "# pytorch backward pass\n",
    "for p in parameters:\n",
    "    p.grad = None\n",
    "for t in [logprobs, probs, counts, counts_sum, counts_sum_inv,\n",
    "          norm_logits, logit_maxes, logits, h, hpreact, bnraw, bnvar_inv,\n",
    "          bnvar, bndiff2, bndiff, hprebn, bnmeani, embcat, emb]:\n",
    "    t.retain_grad()\n",
    "loss.backward()\n",
    "loss"
   ]
  },
  {
   "cell_type": "code",
   "execution_count": 20,
   "id": "8de8fc20",
   "metadata": {},
   "outputs": [
    {
     "data": {
      "text/plain": [
       "torch.Size([32, 27])"
      ]
     },
     "execution_count": 20,
     "metadata": {},
     "output_type": "execute_result"
    }
   ],
   "source": [
    "probs.shape"
   ]
  },
  {
   "cell_type": "code",
   "execution_count": 65,
   "id": "39172601",
   "metadata": {},
   "outputs": [
    {
     "name": "stdout",
     "output_type": "stream",
     "text": [
      "logprobs        |   exact: True  | approximate: True  | maxdiff: 0.0\n",
      "probs           |   exact: True  | approximate: True  | maxdiff: 0.0\n",
      "counts_sum_inv  |   exact: True  | approximate: True  | maxdiff: 0.0\n",
      "counts_sum      |   exact: True  | approximate: True  | maxdiff: 0.0\n",
      "counts          |   exact: True  | approximate: True  | maxdiff: 0.0\n",
      "norm_logits     |   exact: True  | approximate: True  | maxdiff: 0.0\n",
      "logits          |   exact: True  | approximate: True  | maxdiff: 0.0\n",
      "logit_maxes     |   exact: True  | approximate: True  | maxdiff: 0.0\n",
      "h               |   exact: True  | approximate: True  | maxdiff: 0.0\n",
      "W2              |   exact: True  | approximate: True  | maxdiff: 0.0\n",
      "b2              |   exact: True  | approximate: True  | maxdiff: 0.0\n",
      "hpreact         |   exact: True  | approximate: True  | maxdiff: 0.0\n",
      "bngain          |   exact: True  | approximate: True  | maxdiff: 0.0\n",
      "bnraw           |   exact: True  | approximate: True  | maxdiff: 0.0\n",
      "bnbias          |   exact: True  | approximate: True  | maxdiff: 0.0\n",
      "bndiff          |   exact: True  | approximate: True  | maxdiff: 0.0\n",
      "bnvarinv        |   exact: True  | approximate: True  | maxdiff: 0.0\n",
      "bnvar           |   exact: True  | approximate: True  | maxdiff: 0.0\n",
      "bndiff2         |   exact: True  | approximate: True  | maxdiff: 0.0\n",
      "hprebn          |   exact: True  | approximate: True  | maxdiff: 0.0\n",
      "bnmeani         |   exact: True  | approximate: True  | maxdiff: 0.0\n",
      "embcat          |   exact: True  | approximate: True  | maxdiff: 0.0\n",
      "W1              |   exact: True  | approximate: True  | maxdiff: 0.0\n",
      "b1              |   exact: True  | approximate: True  | maxdiff: 0.0\n",
      "emb             |   exact: True  | approximate: True  | maxdiff: 0.0\n",
      "C               |   exact: True  | approximate: True  | maxdiff: 0.0\n"
     ]
    }
   ],
   "source": [
    "# Exercise 1: backprop through the whole thing manually, backpropagationg through exactly all of the variables\n",
    "# as they are defined in the forward pass aboce, one by one\n",
    "\n",
    "# logprobs\n",
    "dlogprobs = torch.zeros_like(logprobs)\n",
    "dlogprobs[range(n), Yb] = -1.0/n\n",
    "# probs\n",
    "dprobs = (1.0 / probs) * dlogprobs\n",
    "# counts_sum_inv\n",
    "dcounts_sum_inv = (counts * dprobs).sum(1, keepdim = True)\n",
    "dcounts = counts_sum_inv * dprobs\n",
    "# counts_sum \n",
    "dcounts_sum = (-counts_sum**-2) * dcounts_sum_inv\n",
    "# counts\n",
    "dcounts +=  torch.ones_like(counts) * dcounts_sum\n",
    "# dnorm_logits\n",
    "dnorm_logits = counts * dcounts\n",
    "#dlogits\n",
    "dlogits = dnorm_logits.clone()\n",
    "#dlogit_maxes\n",
    "dlogit_maxes = (-dnorm_logits).sum(1, keepdim = True) # we get close to zero here\n",
    "# logits again\n",
    "dlogits += F.one_hot(logits.max(1).indices, num_classes = logits.shape[1]) * dlogit_maxes\n",
    "# dh\n",
    "dh = dlogits @ W2.T \n",
    "# W2\n",
    "dW2 = h.T @ dlogits\n",
    "# b2\n",
    "db2 = dlogits.sum(0)\n",
    "# hpreact\n",
    "dhpreact = (1 - h**2) * dh\n",
    "# dbngain\n",
    "dbngain = (bnraw * dhpreact).sum(0, keepdim = True)\n",
    "# dbnraw \n",
    "dbnraw = (bngain * dhpreact)\n",
    "# bnbias\n",
    "dbnbias = dhpreact.sum(0, keepdim = True)\n",
    "# bndiff\n",
    "dbndiff = bnvar_inv * dbnraw\n",
    "# bnvar_inv\n",
    "dbnvar_inv = (bndiff*dbnraw).sum(0, keepdim = True)\n",
    "#bnvar\n",
    "dbnvar = (-0.5 * (bnvar + 1e-5)**-1.5) * dbnvar_inv\n",
    "#bndiff2\n",
    "dbndiff2 = (1.0/(n-1)) * torch.ones_like(bndiff2) * dbnvar\n",
    "# bndiff\n",
    "dbndiff += (2 * bndiff) * dbndiff2\n",
    "#bhprebn\n",
    "dhprebn = dbndiff.clone()\n",
    "# bnmeani\n",
    "dbnmeani = (-dbndiff).sum(0)\n",
    "#hprebn\n",
    "dhprebn += (1.0/n) * torch.ones_like(hprebn) * dbnmeani\n",
    "#embcat\n",
    "dembcat = dhprebn @ W1.T\n",
    "# W1\n",
    "dW1 = embcat.T @ dhprebn\n",
    "# b1\n",
    "db1 = dhprebn.sum(0)\n",
    "#emb\n",
    "demb = dembcat.view(emb.shape)\n",
    "# C\n",
    "dC = torch.zeros_like(C)\n",
    "for k in range(Xb.shape[0]):\n",
    "    for j in range(Xb.shape[1]):\n",
    "        ix = Xb[k, j]\n",
    "        dC[ix] += demb[k, j]\n",
    "\n",
    "\n",
    "cmp('logprobs', dlogprobs,  logprobs)\n",
    "cmp('probs', dprobs,  probs)\n",
    "cmp('counts_sum_inv', dcounts_sum_inv, counts_sum_inv)\n",
    "cmp('counts_sum', dcounts_sum, counts_sum)\n",
    "cmp('counts', dcounts, counts)\n",
    "cmp('norm_logits', dnorm_logits, norm_logits)\n",
    "cmp('logits', dlogits, logits)\n",
    "cmp('logit_maxes', dlogit_maxes, logit_maxes)\n",
    "cmp('h', dh, h)\n",
    "cmp('W2', dW2, W2)\n",
    "cmp('b2', db2, b2)\n",
    "cmp('hpreact', dhpreact, hpreact)\n",
    "cmp('bngain', dbngain, bngain)\n",
    "cmp('bnraw', dbnraw, bnraw)\n",
    "cmp('bnbias', dbnbias, bnbias)\n",
    "cmp('bndiff', dbndiff, bndiff)\n",
    "cmp('bnvarinv', dbnvar_inv, bnvar_inv)\n",
    "cmp('bnvar', dbnvar, bnvar)\n",
    "cmp('bndiff2', dbndiff2, bndiff2)\n",
    "cmp('hprebn', dhprebn, hprebn)\n",
    "cmp('bnmeani', dbnmeani, bnmeani)\n",
    "cmp('embcat', dembcat, embcat)\n",
    "cmp('W1', dW1, W1)\n",
    "cmp('b1', db1, b1)\n",
    "cmp('emb', demb, emb)\n",
    "cmp('C', dC, C)\n"
   ]
  },
  {
   "cell_type": "code",
   "execution_count": 66,
   "id": "8238cac9",
   "metadata": {},
   "outputs": [
    {
     "name": "stdout",
     "output_type": "stream",
     "text": [
      "3.827936887741089 diff: -2.384185791015625e-07\n"
     ]
    }
   ],
   "source": [
    "# Exercise 2 : backprop through cross_entropy but all n one go\n",
    "# to complete this challenge, we look at the mathematical expression of the loss.\n",
    "# in other words, we take the derivative, simplify the expression and write it out\n",
    "\n",
    "# forward  pass - before:\n",
    "# logit_maxes = logits.max(1, keepdim = True).values\n",
    "# norm_logits = logits - logit_maxes  # subtracting the max for numerical stability\n",
    "# counts = norm_logits.exp()\n",
    "# counts_sum = counts.sum(1, keepdims = True)\n",
    "# counts_sum_inv = counts_sum**-1     #Interesting fact: using 1/counts_sum is not good for getting exact backprop\n",
    "# probs = counts * counts_sum_inv\n",
    "# logprobs = probs.log()\n",
    "# loss = -logprobs[range(n), Yb].mean()\n",
    "\n",
    "# forward pass now:\n",
    "loss_fast = F.cross_entropy(logits, Yb)\n",
    "print(loss_fast.item(), 'diff:', (loss_fast - loss).item())\n"
   ]
  },
  {
   "cell_type": "code",
   "execution_count": null,
   "id": "0b5b0a9f",
   "metadata": {},
   "outputs": [
    {
     "name": "stdout",
     "output_type": "stream",
     "text": [
      "logits          |   exact: False | approximate: True  | maxdiff: 5.122274160385132e-09\n"
     ]
    }
   ],
   "source": [
    "# backward pass\n",
    "\n",
    "dlogits = F.softmax(logits, 1)\n",
    "dlogits[range(n), Yb] -= 1\n",
    "dlogits /= n\n",
    "\n",
    "cmp('logits', dlogits, logits)\n",
    "\n",
    "# THe amount to which you mispredict is the amount of pull to the right answer"
   ]
  },
  {
   "cell_type": "code",
   "execution_count": null,
   "id": "545f8342",
   "metadata": {},
   "outputs": [
    {
     "data": {
      "text/plain": [
       "<matplotlib.image.AxesImage at 0x113ec42f0>"
      ]
     },
     "execution_count": 69,
     "metadata": {},
     "output_type": "execute_result"
    },
    {
     "data": {
      "image/png": "[encoded data removed]",
      "text/plain": [
       "<Figure size 800x800 with 1 Axes>"
      ]
     },
     "metadata": {},
     "output_type": "display_data"
    }
   ],
   "source": [
    "plt.figure(figsize = (8, 8))\n",
    "plt.imshow(dlogits.detach(), cmap = 'gray')\n"
   ]
  },
  {
   "cell_type": "code",
   "execution_count": 71,
   "id": "075ab002",
   "metadata": {},
   "outputs": [
    {
     "name": "stdout",
     "output_type": "stream",
     "text": [
      "max_diff: tensor(7.1526e-07, grad_fn=<MaxBackward1>)\n"
     ]
    }
   ],
   "source": [
    "# Exercise 3: backprop through batchnorm but all in one go\n",
    "\n",
    "\n",
    "# forward pass\n",
    "\n",
    "# before\n",
    "# bnmeani = 1/n * hprebn.sum(0, keepdim = True)\n",
    "# bndiff = hprebn - bnmeani \n",
    "# bndiff2 = bndiff**2\n",
    "# bnvar = 1/(n-1) * bndiff2.sum(0, keepdim = True)     # bessel's corection\n",
    "# bnvar_inv = (bnvar + 1e-5)**-0.5\n",
    "# bnraw = bndiff * bnvar_inv\n",
    "# hpreact = bngain*bnraw + bnbias\n",
    "\n",
    "# now = \n",
    "hpreact_fast = bngain * (hprebn - hprebn.mean(0, keepdim = True)) / torch.sqrt(hprebn.var(0, keepdim = True, unbiased = True) + 1e-5)\n",
    "print('max_diff:', (hpreact_fast - hpreact).abs().max())"
   ]
  },
  {
   "cell_type": "code",
   "execution_count": null,
   "id": "775ef15a",
   "metadata": {},
   "outputs": [
    {
     "name": "stdout",
     "output_type": "stream",
     "text": [
      "hprebn          |   exact: False | approximate: True  | maxdiff: 9.313225746154785e-10\n"
     ]
    }
   ],
   "source": [
    "# backward pass\n",
    "# calculate dhprebn given dhpreact (we ignore gamma and beta for now)\n",
    "\n",
    "dhprebn = bngain * bnvar_inv / n * (n* dhpreact - dhpreact.sum(0) - n/(n-1) * bnraw * (dhpreact*bnraw).sum(0))\n",
    "\n",
    "cmp('hprebn', dhprebn, hprebn)\n"
   ]
  },
  {
   "cell_type": "code",
   "execution_count": 75,
   "id": "1483d111",
   "metadata": {},
   "outputs": [
    {
     "name": "stdout",
     "output_type": "stream",
     "text": [
      "12297\n",
      "      0/ 200000: 3.8279\n",
      "  10000/ 200000: 2.1609\n",
      "  20000/ 200000: 2.4227\n",
      "  30000/ 200000: 2.4362\n",
      "  40000/ 200000: 2.0088\n",
      "  50000/ 200000: 2.4084\n",
      "  60000/ 200000: 2.4508\n",
      "  70000/ 200000: 2.1090\n",
      "  80000/ 200000: 2.3592\n",
      "  90000/ 200000: 2.2353\n",
      " 100000/ 200000: 1.9750\n",
      " 110000/ 200000: 2.3438\n",
      " 120000/ 200000: 2.0156\n",
      " 130000/ 200000: 2.4772\n",
      " 140000/ 200000: 2.3107\n",
      " 150000/ 200000: 2.1108\n",
      " 160000/ 200000: 1.9497\n",
      " 170000/ 200000: 1.8004\n",
      " 180000/ 200000: 2.0284\n",
      " 190000/ 200000: 1.8848\n"
     ]
    }
   ],
   "source": [
    "# Exercise 4: Putting it all together\n",
    "# training the mlp neural network with our own backward pass\n",
    "\n",
    "# init\n",
    "n_embd = 10\n",
    "n_hidden = 200\n",
    "\n",
    "\n",
    "\n",
    "g = torch.Generator().manual_seed(2147483647)\n",
    "C = torch.randn((vocab_size, n_embd), generator = g)\n",
    "\n",
    "# Layer 1\n",
    "W1 = torch.randn((n_embd * block_size, n_hidden), generator = g) * (5/3)/((n_embd * block_size)**0.5) \n",
    "b1 = torch.randn(n_hidden, generator = g) * 0.1     # This is useless we are adding to see the gradient\n",
    "\n",
    "# Layer 2\n",
    "W2 = torch.randn((n_hidden, vocab_size), generator = g) * 0.1  \n",
    "b2 = torch.randn(vocab_size, generator = g)* 0.1 \n",
    "\n",
    "# batch normalization\n",
    "bngain = torch.ones((1, n_hidden)) * 0.1 + 1.0\n",
    "bnbias = torch.zeros((1, n_hidden)) * 0.1\n",
    "\n",
    "\n",
    "\n",
    "parameters = [C, W1, b1, W2, b2, bngain, bnbias] \n",
    "print(sum(p.nelement() for p in parameters)) # getting the number of parameters\n",
    "for p in parameters:\n",
    "    p.requires_grad = True\n",
    "\n",
    "# optimization\n",
    "max_steps = 200000\n",
    "batch_size = 32\n",
    "n = batch_size\n",
    "lossi = []\n",
    "\n",
    "\n",
    "# use this context manager for efficieny once backward pass is written\n",
    "with torch.no_grad():\n",
    "    for i in range(max_steps):\n",
    "\n",
    "        # minibatch_construct\n",
    "        ix = torch.randint(0, Xtr.shape[0], (batch_size, ), generator = g)\n",
    "        Xb, Yb = Xtr[ix], Ytr[ix]   # batch X, Y\n",
    "\n",
    "        emb  = C[Xb]    # embedding the characters into vectors\n",
    "        embcat = emb.view(emb.shape[0], -1)     # concatenating the vectors\n",
    "\n",
    "        # Linear layer1\n",
    "        hprebn =embcat @ W1 + b1    # hidden layer pre-activation and normalization\n",
    "\n",
    "        #batchnorm layer\n",
    "        bnmean =  hprebn.mean(0, keepdim = True)\n",
    "        bnvar = hprebn.var(0, keepdim = True, unbiased = True)\n",
    "        bnvar_inv = (bnvar + 1e-5)**-0.5\n",
    "        bnraw = (hprebn - bnmean) *bnvar_inv\n",
    "        hpreact = bngain*bnraw + bnbias\n",
    "\n",
    "        # Non-linearity\n",
    "        h = torch.tanh(hpreact)  # hidden layer\n",
    "        logits = h @ W2 + b2    # output layer\n",
    "        loss = F.cross_entropy(logits, Yb)\n",
    "\n",
    "        # backward pass\n",
    "        for p in parameters:\n",
    "            p.grad = None\n",
    "        # loss.backward() #use for comparison, delete later\n",
    "\n",
    "        # manual backprop\n",
    "        dlogits = F.softmax(logits, 1)\n",
    "        dlogits[range(n), Yb] -= 1\n",
    "        dlogits /= n\n",
    "        #2nd layer\n",
    "        dh = dlogits @ W2.T\n",
    "        dW2 = h.T @ dlogits\n",
    "        db2 = dlogits.sum(0)\n",
    "        # tanh\n",
    "        dhpreact = (1.0 - h**2) * dh\n",
    "        # batchnorm backprop\n",
    "        dbngain = (bnraw * dhpreact).sum(0, keepdim = True)\n",
    "        dbnbias = dhpreact.sum(0, keepdim = True)\n",
    "        dhprebn = bngain * bnvar_inv / n * (n* dhpreact - dhpreact.sum(0) - n/(n-1) * bnraw * (dhpreact*bnraw).sum(0))\n",
    "        # 1st layer\n",
    "        dembcat = dhprebn @ W1.T\n",
    "        dW1 = embcat.T @ dhprebn\n",
    "        db1 = dhprebn.sum(0)\n",
    "        # embeddding\n",
    "        demb = dembcat.view(emb.shape)\n",
    "        dC = torch.zeros_like(C)\n",
    "        for k in range(Xb.shape[0]):\n",
    "            for j in range(Xb.shape[1]):\n",
    "                ix = Xb[k, j]\n",
    "                dC[ix] += demb[k, j]\n",
    "        grads = [dC, dW1, db1, dW2, db2, dbngain, dbnbias]\n",
    "\n",
    "        # update\n",
    "        lr = 0.1 if i < 100000 else 0.01 # step learning rate decay\n",
    "        for p, grad in zip(parameters, grads):\n",
    "            # p.data += -lr * p.grad\n",
    "            p.data += -lr * grad\n",
    "        \n",
    "        # track stats:\n",
    "        if i %10000 == 0:\n",
    "            print(f'{i:7d}/{max_steps:7d}: {loss.item():.4f}')\n",
    "        lossi.append(loss.log10().item())  \n",
    "\n",
    "        # if i >= 100:\n",
    "        #     break\n"
   ]
  },
  {
   "cell_type": "code",
   "execution_count": null,
   "id": "640b39cd",
   "metadata": {},
   "outputs": [
    {
     "name": "stdout",
     "output_type": "stream",
     "text": [
      "(27, 10)        |   exact: False | approximate: True  | maxdiff: 1.5832483768463135e-08\n",
      "(30, 200)       |   exact: False | approximate: True  | maxdiff: 1.1175870895385742e-08\n",
      "(200,)          |   exact: False | approximate: True  | maxdiff: 4.6566128730773926e-09\n",
      "(200, 27)       |   exact: False | approximate: True  | maxdiff: 1.4901161193847656e-08\n",
      "(27,)           |   exact: False | approximate: True  | maxdiff: 7.450580596923828e-09\n",
      "(1, 200)        |   exact: False | approximate: True  | maxdiff: 1.862645149230957e-09\n",
      "(1, 200)        |   exact: False | approximate: True  | maxdiff: 3.725290298461914e-09\n"
     ]
    }
   ],
   "source": [
    "# checking gradients\n",
    "# for p, g in zip(parameters, grads):\n",
    "#     cmp(str(tuple(p.shape)), g, p)"
   ]
  },
  {
   "cell_type": "code",
   "execution_count": 76,
   "id": "5f29440e",
   "metadata": {},
   "outputs": [],
   "source": [
    "# calibrating the batch norm at the end\n",
    "\n",
    "\n",
    "with torch.no_grad():\n",
    "    # pass the training set through\n",
    "    emb = C[Xtr]\n",
    "    embcat = emb.view(emb.shape[0], -1)\n",
    "    hpreact = embcat@W1 + b1\n",
    "    # measure the mean/std over the entire traning set\n",
    "    bnmean = hpreact.mean(0, keepdim = True)\n",
    "    bnstd = hpreact.std(0, keepdim = True)"
   ]
  },
  {
   "cell_type": "code",
   "execution_count": 77,
   "id": "7347519c",
   "metadata": {},
   "outputs": [
    {
     "name": "stdout",
     "output_type": "stream",
     "text": [
      "train 2.0673813819885254\n",
      "val 2.1062190532684326\n"
     ]
    }
   ],
   "source": [
    "def split_loss(split):\n",
    "    x,y = {\n",
    "        'train': (Xtr, Ytr),\n",
    "        'val': (Xdev, Ydev),\n",
    "        'test': (Xte, Yte)\n",
    "    }[split]\n",
    "\n",
    "    emb = C[x] # (N, block_size, n_embd)\n",
    "    embcat = emb.view(emb.shape[0], -1) # concat into (N, block_size * n_embed)\n",
    "    hpreact = embcat@W1 + b1\n",
    "    hpreact = bngain * (hpreact - bnmean) / bnstd + bnbias\n",
    "\n",
    "    h = torch.tanh(hpreact)\n",
    "    logits = h @ W2 + b2\n",
    "    loss = F.cross_entropy(logits, y)\n",
    "    print(split, loss.item())\n",
    "\n",
    "split_loss('train')\n",
    "split_loss('val')"
   ]
  },
  {
   "cell_type": "code",
   "execution_count": 78,
   "id": "48bb9b1c",
   "metadata": {},
   "outputs": [
    {
     "name": "stdout",
     "output_type": "stream",
     "text": [
      "carla.\n",
      "fati.\n",
      "harlikimri.\n",
      "reet.\n",
      "khalaysie.\n",
      "mahnee.\n",
      "delynn.\n",
      "jareei.\n",
      "nellara.\n",
      "chaily.\n",
      "kaleigh.\n",
      "ham.\n",
      "joce.\n",
      "quinn.\n",
      "shoison.\n",
      "jadbi.\n",
      "wavero.\n",
      "dearyn.\n",
      "kai.\n",
      "eveilsan.\n"
     ]
    }
   ],
   "source": [
    "# sample from the model \n",
    "g = torch.Generator().manual_seed(2147483647 + 10)\n",
    "\n",
    "for _ in range(20):\n",
    "    out = []\n",
    "    context = [0] * block_size\n",
    "    while True:\n",
    "        emb = C[torch.tensor([context])]\n",
    "        hpreact  = emb.view(1, -1) @ W1 + b1\n",
    "        hpreact = bngain * (hpreact - bnmean)/bnstd + bnbias\n",
    "        h = torch.tanh(hpreact)\n",
    "        logits = h@W2 + b2\n",
    "        probs = F.softmax(logits, dim = 1)\n",
    "        ix = torch.multinomial(probs, num_samples = 1, generator = g).item()\n",
    "        context = context[1:] + [ix]\n",
    "        out.append(ix)\n",
    "        if ix==0:\n",
    "            break\n",
    "    print(''.join(itos[i] for i in out))"
   ]
  },
  {
   "cell_type": "code",
   "execution_count": null,
   "id": "ae91a64a",
   "metadata": {},
   "outputs": [],
   "source": []
  }
 ],
 "metadata": {
  "kernelspec": {
   "display_name": "karpathy-zero-to-hero",
   "language": "python",
   "name": "python3"
  },
  "language_info": {
   "codemirror_mode": {
    "name": "ipython",
    "version": 3
   },
   "file_extension": ".py",
   "mimetype": "text/x-python",
   "name": "python",
   "nbconvert_exporter": "python",
   "pygments_lexer": "ipython3",
   "version": "3.13.5"
  }
 },
 "nbformat": 4,
 "nbformat_minor": 5
}
